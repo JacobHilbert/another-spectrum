{
 "cells": [
  {
   "cell_type": "code",
   "execution_count": 2,
   "id": "359537d8-c393-468e-b4c9-40d49e212b01",
   "metadata": {},
   "outputs": [],
   "source": [
    "import os\n",
    "import json\n",
    "import toolz\n",
    "import numpy as np\n",
    "from glob import glob\n",
    "from tqdm import tqdm\n",
    "from collections import OrderedDict"
   ]
  },
  {
   "cell_type": "code",
   "execution_count": 18,
   "id": "3498606f-2973-4a83-9dc7-55f78df64849",
   "metadata": {},
   "outputs": [
    {
     "name": "stderr",
     "output_type": "stream",
     "text": [
      "100%|██████████████████████████████████████████████████████████| 4358/4358 [00:21<00:00, 202.95it/s]\n",
      "100%|██████████████████████████████████████████████████████████| 4699/4699 [00:17<00:00, 274.40it/s]\n"
     ]
    }
   ],
   "source": [
    "for cloud in [\"lmc\",\"smc\"]:\n",
    "    base = f\"ogle4/OCVS/{cloud}/cep/phot/\"\n",
    "    Inames = glob(base+\"I/*.dat\")\n",
    "    Vnames = glob(base+\"V/*.dat\")\n",
    "    \n",
    "    I_codes = {os.path.basename(I).split(\".\")[0] for I in Inames}\n",
    "    V_codes = {os.path.basename(V).split(\".\")[0] for V in Vnames}\n",
    "    \n",
    "    w = {}\n",
    "    Dt = {}\n",
    "    for code in tqdm(I_codes.intersection(V_codes),ncols=100):\n",
    "        t,I,err = np.loadtxt(f\"{base}I/{code}.dat\",unpack=True)\n",
    "        _,V,err = np.loadtxt(f\"{base}V/{code}.dat\",unpack=True)\n",
    "        I_mean = I.mean()\n",
    "        W  = I_mean - 1.55 * (V.mean()-I_mean)\n",
    "        w[code] = W\n",
    "        Dt[code] = np.ptp(t)\n",
    "        \n",
    "    with open(f\"{cloud}_wesenheit.json\",\"w\") as file:\n",
    "        json.dump({\n",
    "            \"W\":OrderedDict(sorted(w.items())),\n",
    "            \"Dt\":OrderedDict(sorted(Dt.items()))\n",
    "        },file)"
   ]
  },
  {
   "cell_type": "code",
   "execution_count": 30,
   "id": "53d2add8-1611-4d99-b662-4ff9bed73388",
   "metadata": {},
   "outputs": [
    {
     "name": "stderr",
     "output_type": "stream",
     "text": [
      "100%|██████████████████████████████████████████████████████████| 4358/4358 [00:22<00:00, 190.36it/s]\n",
      "100%|██████████████████████████████████████████████████████████| 4699/4699 [00:14<00:00, 333.11it/s]\n"
     ]
    }
   ],
   "source": [
    "R_I = {'lmc':1.67,'smc':1.74}\n",
    "\n",
    "for cloud in [\"lmc\",\"smc\"]:\n",
    "    base = f\"ogle4/OCVS/{cloud}/cep/phot/\"\n",
    "    Inames = glob(base+\"I/*.dat\")\n",
    "    Vnames = glob(base+\"V/*.dat\")\n",
    "    \n",
    "    I_codes = {os.path.basename(I).split(\".\")[0] for I in Inames}\n",
    "    V_codes = {os.path.basename(V).split(\".\")[0] for V in Vnames}\n",
    "    \n",
    "    w = {}\n",
    "    for code in tqdm(I_codes.intersection(V_codes),ncols=100):\n",
    "        t,I,err = np.loadtxt(f\"{base}I/{code}.dat\",unpack=True)\n",
    "        t,V,err = np.loadtxt(f\"{base}V/{code}.dat\",unpack=True)\n",
    "        I_mean = I.mean()\n",
    "        W  = I_mean - R_I[cloud] * (V.mean()-I_mean)\n",
    "        w[code] = W\n",
    "        \n",
    "    with open(f\"{cloud}_wesenheit_special.json\",\"w\") as file:\n",
    "        json.dump({\"W\":OrderedDict(sorted(w.items()))},file)"
   ]
  },
  {
   "cell_type": "code",
   "execution_count": null,
   "id": "cee910d7-0664-4b12-8f13-9d00d49d1d5b",
   "metadata": {},
   "outputs": [],
   "source": []
  }
 ],
 "metadata": {
  "kernelspec": {
   "display_name": "Python 3 (ipykernel)",
   "language": "python",
   "name": "python3"
  },
  "language_info": {
   "codemirror_mode": {
    "name": "ipython",
    "version": 3
   },
   "file_extension": ".py",
   "mimetype": "text/x-python",
   "name": "python",
   "nbconvert_exporter": "python",
   "pygments_lexer": "ipython3",
   "version": "3.9.7"
  }
 },
 "nbformat": 4,
 "nbformat_minor": 5
}
