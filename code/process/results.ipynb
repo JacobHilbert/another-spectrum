{
 "cells": [
  {
   "cell_type": "code",
   "execution_count": null,
   "id": "f8839cf6-3eaa-4201-8061-db43510d089b",
   "metadata": {},
   "outputs": [],
   "source": [
    "import pandas as pd\n",
    "import matplotlib.pyplot as plt\n",
    "import numpy as np\n",
    "\n",
    "plt.rcParams[\"figure.dpi\"] = 120\n",
    "plt.rcParams[\"axes.labelsize\"] = 17\n",
    "plt.rcParams[\"xtick.labelsize\"] = 12\n",
    "plt.rcParams[\"ytick.labelsize\"] = 12"
   ]
  },
  {
   "cell_type": "markdown",
   "id": "61683299-15ec-45cf-83fb-52631b87aa38",
   "metadata": {},
   "source": [
    "# Import"
   ]
  },
  {
   "cell_type": "code",
   "execution_count": null,
   "id": "b585a9be-bf00-4cf9-b5a7-2310b1b5809a",
   "metadata": {},
   "outputs": [],
   "source": [
    "clouds = [\"lmc\",\"smc\"]\n",
    "data = {\"I\":{},\"W\":{}}\n",
    "subsets = {\"few_n\":{},\"many_n\":{},\"few_peak\":{},\"many_peak\":{},\"good\":{},\"bad\":{}}\n",
    "\n",
    "peaks = {cloud:pd.read_json(f\"{cloud}_peaks.json\",orient='index')[[\"freqs\",\"peak_heights\"]] for cloud in  [\"lmc\",\"smc\"]}\n",
    "for cloud in clouds:\n",
    "    peaks[cloud]['n_peaks'] = peaks[cloud].freqs.apply(len)\n",
    "    \n",
    "n_thr = {'lmc':50,'smc':50}\n",
    "peak_thr = {'lmc':15,'smc':20}\n",
    "for cloud in clouds:\n",
    "    data[\"I\"][cloud] = pd.read_json(f\"{cloud}_results.json\",orient='index')\n",
    "    data[\"W\"][cloud] = pd.read_json(f\"{cloud}_wesenheit.json\")\n",
    "    data[\"W\"][cloud] = data[\"W\"][cloud].join(data[\"I\"][cloud]).join(peaks[cloud])\n",
    "    \n",
    "    data[\"I\"][cloud][\"I\"] = data[\"I\"][cloud].I_mean\n",
    "    data[\"W\"][cloud][\"I\"] = data[\"I\"][cloud].I_mean\n",
    "    \n",
    "    subsets[\"few_n\"][cloud] = data[\"W\"][cloud][data[\"W\"][cloud].n < n_thr[cloud]].index\n",
    "    subsets[\"many_n\"][cloud] = data[\"W\"][cloud][data[\"W\"][cloud].n > n_thr[cloud]].index\n",
    "    subsets[\"few_peak\"][cloud] = data[\"W\"][cloud][data[\"W\"][cloud].n_peaks < peak_thr[cloud]].index\n",
    "    subsets[\"many_peak\"][cloud] = data[\"W\"][cloud][data[\"W\"][cloud].n_peaks > peak_thr[cloud]].index"
   ]
  },
  {
   "cell_type": "markdown",
   "id": "7d9f9d46-a380-460c-bcc2-ced2ca71f43a",
   "metadata": {},
   "source": [
    "## inspect number of peaks"
   ]
  },
  {
   "cell_type": "code",
   "execution_count": null,
   "id": "6d582d49-59e3-4d13-bb62-e34edf91f1e4",
   "metadata": {},
   "outputs": [],
   "source": [
    "fig,ax = plt.subplots(ncols=2,figsize=(12,4),sharey=True)\n",
    "\n",
    "for i,cloud in enumerate([\"lmc\",\"smc\"]):\n",
    "    plt.sca(ax[i])\n",
    "    W = data[\"W\"][cloud]\n",
    "    plt.scatter(W.n,W.n_peaks,s=3,c='k',label=\"selected data\")\n",
    "    plt.scatter(W.n.loc[subsets[\"few_n\"][cloud]],W.n_peaks.loc[subsets[\"few_n\"][cloud]],s=40,label=\"too few points\")\n",
    "    plt.scatter(W.n.loc[subsets[\"many_peak\"][cloud]],W.n_peaks.loc[subsets[\"many_peak\"][cloud]],s=20,label=\"too many peaks\")\n",
    "    \n",
    "    plt.plot([n_thr[cloud],n_thr[cloud]],ax[i].get_ylim(),\"--\")\n",
    "    plt.plot(ax[i].get_xlim(),[peak_thr[cloud],peak_thr[cloud]],\"--\")\n",
    "    \n",
    "    plt.xscale(\"log\")\n",
    "    if i == 0:\n",
    "        plt.ylabel(\"number of peaks\")\n",
    "        plt.yscale(\"log\")\n",
    "        plt.legend()\n",
    "    plt.xlabel(\"points per star\")\n",
    "    plt.title(f\"OGLE-{cloud.upper()}-CEP\")\n",
    "    \n",
    "plt.tight_layout()\n",
    "#plt.savefig(\"results/peaks_vs_points.pdf\")"
   ]
  },
  {
   "cell_type": "markdown",
   "id": "26f2751f-bb1f-4ff7-ab39-106f5e10a249",
   "metadata": {},
   "source": [
    "Number of peaks greater than half the maximum peak, to eliminate the noise peaks on the spectrum"
   ]
  },
  {
   "cell_type": "markdown",
   "id": "f2d54e57-c0ac-448e-92e5-4c064a673634",
   "metadata": {},
   "source": [
    "## Define good and bad data"
   ]
  },
  {
   "cell_type": "code",
   "execution_count": null,
   "id": "0ca6809f-2a93-4ed5-824e-267fbf1cd171",
   "metadata": {},
   "outputs": [],
   "source": [
    "for cloud in clouds:\n",
    "    subsets[\"good\"][cloud] = np.intersect1d(subsets[\"many_n\"][cloud],subsets[\"few_peak\"][cloud])\n",
    "    subsets[\"bad\"][cloud] = np.union1d(subsets[\"few_n\"][cloud],subsets[\"many_peak\"][cloud])"
   ]
  },
  {
   "cell_type": "markdown",
   "id": "d2af96f5-8d01-4a11-aa68-1983e43a4fdb",
   "metadata": {},
   "source": [
    "# PL relation"
   ]
  },
  {
   "cell_type": "code",
   "execution_count": null,
   "id": "a9438f07-8b1e-487d-be7a-89b3e8186339",
   "metadata": {},
   "outputs": [],
   "source": [
    "fig,ax = plt.subplots(ncols=2,nrows=2,figsize=(12,8),sharey='row',sharex='col')\n",
    "s = 1\n",
    "sd = 20\n",
    "\n",
    "for i,cloud in enumerate([\"lmc\",\"smc\"]):\n",
    "    good = data[\"W\"][cloud].loc[subsets[\"good\"][cloud]]\n",
    "    bad = data[\"W\"][cloud].loc[subsets[\"bad\"][cloud]]\n",
    "    \n",
    "    plt.sca(ax[0,i])\n",
    "    plt.title(f\"OGLE-{cloud.upper()}-CEP\")\n",
    "    plt.scatter(-np.log10(good.freq),good.I_mean,s=s,c='k',label=\"selected\")\n",
    "    plt.scatter(-np.log10(bad.freq),bad.I_mean,s=sd,alpha=0.2,c='r',label=\"discarded\")\n",
    "    if i == 0:\n",
    "        plt.ylim(*np.flip(plt.gca().get_ylim()))\n",
    "        plt.ylabel(\"$I_{mean}$\")\n",
    "        plt.legend()\n",
    "    \n",
    "    plt.sca(ax[1,i])\n",
    "    plt.scatter(-np.log10(good.freq),good.W,s=s,c='k',label=\"selected\")\n",
    "    plt.scatter(-np.log10(bad.freq),bad.W,s=sd,alpha=0.2,c='r',label=\"discarded\")\n",
    "    if i == 0:\n",
    "        plt.ylim(*np.flip(plt.gca().get_ylim()))\n",
    "        plt.ylabel(\"$W_I$\")\n",
    "    plt.xlabel(\"$\\\\log$ P\")\n",
    "\n",
    "plt.tight_layout()\n",
    "#plt.savefig(\"results/PL_realtion.pdf\")"
   ]
  },
  {
   "cell_type": "code",
   "execution_count": null,
   "id": "d9982e66-f3ee-4ee9-8fba-84e054a4abf6",
   "metadata": {},
   "outputs": [],
   "source": [
    "fig,ax = plt.subplots(nrows=2,ncols=3,sharex='col',sharey='row',figsize=(13,7))\n",
    "bins = 40\n",
    "hist = dict(log=True,histtype='step',color=['k','r'],label=[\"selected\",\"discarded\"])\n",
    "\n",
    "for i,cloud in enumerate([\"lmc\",\"smc\"]):\n",
    "    good = data[\"W\"][cloud].loc[subsets[\"good\"][cloud]]\n",
    "    bad = data[\"W\"][cloud].loc[subsets[\"bad\"][cloud]]\n",
    "    \n",
    "    plt.sca(ax[i,0])\n",
    "    plt.ylabel(f\"stars in the {cloud.upper()}\")\n",
    "    plt.hist([good.sigma_freq,bad.sigma_freq],bins,**hist)\n",
    "    \n",
    "    if i == 0:\n",
    "        plt.legend()\n",
    "    else:\n",
    "        plt.xlabel(r\"$\\sigma_{\\nu}$ (1/days)\")\n",
    "        plt.xticks(np.arange(0,0.0013,0.0003))\n",
    "        \n",
    "    plt.sca(ax[i,1])\n",
    "    plt.hist([good.sigma_freq/good.freq,bad.sigma_freq/bad.freq],np.linspace(0,0.015),**hist)\n",
    "    if i == 1:\n",
    "        #plt.xlim(0,0.3\n",
    "        plt.xticks(np.arange(0,0.015,0.005))\n",
    "        plt.xlabel(r\"$\\sigma_{\\log P} = \\sigma_\\nu/\\nu$ (days)\")\n",
    "    \n",
    "    plt.sca(ax[i,2])\n",
    "    plt.hist([good.sigma_I_mean,bad.sigma_I_mean],bins,**hist)\n",
    "    if i == 1:\n",
    "        plt.xlabel(r\"$\\sigma_{I\\, mean}$ (mag)\")\n",
    "        \n",
    "plt.tight_layout()\n",
    "#plt.savefig(\"results/results_uncertainties.pdf\")"
   ]
  },
  {
   "cell_type": "markdown",
   "id": "8d273033-655a-44de-8ae1-7783253bff7a",
   "metadata": {
    "jp-MarkdownHeadingCollapsed": true,
    "tags": []
   },
   "source": [
    "## Colorful"
   ]
  },
  {
   "cell_type": "code",
   "execution_count": null,
   "id": "b6b26952-0143-4a5f-8fc8-00aee49f196d",
   "metadata": {},
   "outputs": [],
   "source": [
    "from tqdm import tqdm"
   ]
  },
  {
   "cell_type": "code",
   "execution_count": null,
   "id": "82c571cb-878f-448c-be37-479d0fcb139e",
   "metadata": {},
   "outputs": [],
   "source": [
    "cloud = 'lmc'\n",
    "W = data[\"W\"][cloud].loc[subsets[\"good\"][cloud]]\n",
    "\n",
    "plt.figure(figsize=(10,6))\n",
    "plt.gca().set_facecolor(plt.get_cmap()(0))\n",
    "for i in tqdm(range(len(W.freqs))):\n",
    "    colors = (np.array(W.peak_heights[i])-0.4)\n",
    "    plt.scatter(-np.log10(W.freqs[i]),[W.W[i]]*W.n_peaks[i],c=colors,alpha=colors,s=1)\n",
    "plt.ylim(*np.flip(plt.gca().get_ylim()))\n",
    "plt.xlim(-np.log10(W.freq.max()),-np.log10(W.freq.min()))\n",
    "plt.ylabel(\"$W_I$\")\n",
    "plt.xlabel(\"log P\")\n",
    "plt.tight_layout()\n",
    "%time plt.savefig(\"lmc.png\",dpi=200)"
   ]
  },
  {
   "cell_type": "code",
   "execution_count": null,
   "id": "aa907dd5-760d-4d09-8ee5-8ba8ceb27c5c",
   "metadata": {},
   "outputs": [],
   "source": [
    "cloud = 'lmc'\n",
    "W = data[\"W\"][cloud].loc[subsets[\"good\"][cloud]]\n",
    "\n",
    "plt.figure(figsize=(10,6))\n",
    "plt.gca().set_facecolor(plt.get_cmap()(0))\n",
    "for i in tqdm(range(len(W.freqs))):\n",
    "    colors = (np.array(W.peak_heights[i])-0.5)\n",
    "    plt.scatter(W.freqs[i],[W.W[i]]*W.n_peaks[i],c=colors,s=1)\n",
    "plt.ylim(*np.flip(plt.gca().get_ylim()))\n",
    "plt.xlim(0.001,4.7)\n",
    "plt.ylabel(\"$W_I$\")\n",
    "plt.xlabel(\"$\\\\nu$ (1/days)\")\n",
    "plt.tight_layout()\n",
    "%time plt.savefig(\"lmc_freq.png\",dpi=200)"
   ]
  },
  {
   "cell_type": "markdown",
   "id": "17bfcdae-d7fe-47d1-8f3f-d04448ec708a",
   "metadata": {},
   "source": [
    "some yellow dots can be seen lying around the secondary peaks. This can possibly be resolved by searching with a fined $d\\tau$ around each founded peak, to find the true maximum of each one. This can be done with any of the five algorithms, as the speed should not be a problem for so few points."
   ]
  },
  {
   "cell_type": "code",
   "execution_count": null,
   "id": "927f98fc-69bc-4eda-8c33-25a3a0981f90",
   "metadata": {},
   "outputs": [],
   "source": [
    "cloud = 'smc'\n",
    "W = data[\"W\"][cloud].loc[subsets[\"good\"][cloud]]\n",
    "\n",
    "plt.figure(figsize=(10,6))\n",
    "plt.gca().set_facecolor(plt.get_cmap()(0))\n",
    "for i in tqdm(range(len(W.freqs))):\n",
    "    colors = (np.array(W.peak_heights[i])-0.5)\n",
    "    plt.scatter(-np.log10(W.freqs[i]),[W.W[i]]*W.n_peaks[i],c=colors,alpha=colors,s=1)\n",
    "plt.ylim(*np.flip(plt.gca().get_ylim()))\n",
    "plt.xlim(-np.log10(W.freq.max()),-np.log10(W.freq.min()))\n",
    "plt.ylabel(\"$W_I$\")\n",
    "plt.xlabel(\"log P\")\n",
    "plt.tight_layout()\n",
    "%time plt.savefig(\"smc.png\",dpi=200)"
   ]
  },
  {
   "cell_type": "markdown",
   "id": "7b528ad8-6fc9-4e24-9a05-8cf93bcb2686",
   "metadata": {},
   "source": [
    "## Compare with OGLE"
   ]
  },
  {
   "cell_type": "markdown",
   "id": "0fc56fe7-f83d-43b9-b41e-3af14dda1eaa",
   "metadata": {
    "tags": []
   },
   "source": [
    "### import OGLE data"
   ]
  },
  {
   "cell_type": "code",
   "execution_count": null,
   "id": "47e249a7-932c-4b54-bcbd-3f19e092bdf8",
   "metadata": {},
   "outputs": [],
   "source": [
    "pd_options = dict(\n",
    "    sep=\"\\s+\",\n",
    "    usecols=[*range(7)],\n",
    "    index_col=0,\n",
    "    names=[\"ID\",\"I\",\"V\",\"P\",\"dP\",\"t0\",\"ptp\"],\n",
    "    na_values=\"-\"\n",
    ")\n",
    "base = {}\n",
    "files = {}\n",
    "labels = {}\n",
    "tables = {}\n",
    "stats = {}\n",
    "\n",
    "base[\"lmc\"] = \"ogle4/OCVS/lmc/cep/\"\n",
    "files[\"lmc\"] = [\"cepF.dat\",\"cep1O.dat\",\"cep2O.dat\",\n",
    "         \"cepF1O.dat\",\"cep1O2O.dat\",\"cepF1O2O.dat\",\n",
    "         \"cep1O2O3O.dat\",\"cep1O3O.dat\",\"cep2O3O.dat\"]\n",
    "\n",
    "base[\"smc\"] = \"ogle4/OCVS/smc/cep/\"\n",
    "files[\"smc\"] = [\"cepF.dat\",\"cep1O.dat\",\"cep2O.dat\",\n",
    "         \"cepF1O.dat\",\"cep1O2O.dat\",\"cep1O2O3O.dat\"]\n",
    "\n",
    "for cloud,basepath in base.items():\n",
    "    labels[cloud] = [f[3:].split(\".\")[0] for f in files[cloud]]\n",
    "    tables[cloud] = {\n",
    "        label:pd.read_table(basepath+fname,**pd_options) for fname,label in zip(files[cloud],labels[cloud])\n",
    "    }\n",
    "    for label,table in tables[cloud].items():\n",
    "        for phot in \"IV\":\n",
    "            table.insert(len(table.columns),\"n\"+phot,np.nan)\n",
    "            for index in table.index:\n",
    "                try:\n",
    "                    with open(f\"{basepath}phot/{phot}/{index}.dat\",\"r\") as file:\n",
    "                        table.at[index,\"n\"+phot] = file.read().count(\"\\n\")\n",
    "                except FileNotFoundError:\n",
    "                    pass\n",
    "    all_data = pd.concat(tables[cloud].values()).sort_index()\n",
    "    tables[cloud][\"total\"] = all_data"
   ]
  },
  {
   "cell_type": "markdown",
   "id": "809243ba-43cc-4113-99bd-2a8bdae2238b",
   "metadata": {},
   "source": [
    "### Compare plot"
   ]
  },
  {
   "cell_type": "code",
   "execution_count": null,
   "id": "30e95256-183b-474a-afe4-f7a60e823a0d",
   "metadata": {},
   "outputs": [],
   "source": [
    "true_outliers = {}\n",
    "\n",
    "for cloud in clouds:\n",
    "    W = data[\"W\"][cloud].loc[subsets[\"good\"][cloud]].join(tables[cloud]['total'].drop(columns=\"I\"))\n",
    "    true_outliers[cloud] = W[\n",
    "        ((np.log10(abs(W.P-1/W.freq)) > 0) & (-np.log10(W.freq)<0)) | \\\n",
    "        ( (np.log10(abs(W.P-1/W.freq)) > -2) & (-np.log10(W.freq)<-0.3) & (cloud=='smc')) | \\\n",
    "        ( (np.log10(abs(W.P-1/W.freq)) > -0.65) & (-np.log10(W.freq)<-0.2) & (cloud=='smc'))\n",
    "    ]"
   ]
  },
  {
   "cell_type": "code",
   "execution_count": null,
   "id": "8df1be86-0e3c-4e16-96f8-15239ab15a90",
   "metadata": {},
   "outputs": [],
   "source": [
    "fig,ax = plt.subplots(ncols=2,sharey=True,figsize=(12,4))\n",
    "for i,cloud in enumerate([\"lmc\",\"smc\"]):\n",
    "    plt.sca(ax[i])\n",
    "    test = data[\"W\"][cloud].join(tables[cloud]['total'].P)\n",
    "\n",
    "    plt.scatter(-np.log10(test.freq),abs(test.P - 1/test.freq),s=1,c='k',label=\"selected data\")\n",
    "    plt.scatter(-np.log10(true_outliers[cloud].freq),abs(true_outliers[cloud].P-1/true_outliers[cloud].freq),s=30,c=\"#FF00FF\",label=\"true outliers\")\n",
    "    plt.scatter(-np.log10(test.loc[subsets[\"few_n\"][cloud]].freq),abs(test.P - 1/test.freq).loc[subsets[\"few_n\"][cloud]],s=15,label=\"too few points\")\n",
    "    plt.scatter(-np.log10(test.loc[subsets[\"many_peak\"][cloud]].freq),abs(test.P - 1/test.freq).loc[subsets[\"many_peak\"][cloud]],s=5,label=\"too many peaks\")\n",
    "    if i == 0:\n",
    "        plt.yscale(\"log\")\n",
    "        plt.legend()\n",
    "        plt.ylabel(\"Discrepancy with \\nOGLE-IV period\")\n",
    "    plt.xlabel(\"log P (this work)\")\n",
    "    plt.title(f\"OGLE-{cloud.upper()}-CEP\")\n",
    "    \n",
    "plt.tight_layout()\n",
    "#plt.savefig(\"results/discrepancies.pdf\")"
   ]
  },
  {
   "cell_type": "markdown",
   "id": "23279f01-99cb-4460-ab7d-1ca735470f00",
   "metadata": {},
   "source": [
    "No a-priori way to select the discrepancy line was found.\n",
    "The stars on the discrepancy line all have a typical number of peaks and data points."
   ]
  },
  {
   "cell_type": "code",
   "execution_count": null,
   "id": "1f342167-6332-4396-8282-69e25151f3d4",
   "metadata": {},
   "outputs": [],
   "source": [
    "for cloud in clouds:\n",
    "    W = data[\"W\"][cloud].loc[subsets[\"good\"][cloud]].join(tables[cloud]['total'].P)\n",
    "    less = sum(abs(W.P - 1/W.freq) < 0.01)\n",
    "    total = len(W.P)\n",
    "    print(cloud,f\"good: {less/total*100:.2f}%\",total-less)"
   ]
  },
  {
   "cell_type": "markdown",
   "id": "a7020c63-666d-451f-9669-4eb9c0838c6f",
   "metadata": {},
   "source": [
    "## Mystery vertical line"
   ]
  },
  {
   "cell_type": "code",
   "execution_count": null,
   "id": "cc74a25e-148e-406d-a349-893064ac2cb9",
   "metadata": {},
   "outputs": [],
   "source": [
    "mistery_line = {}\n",
    "\n",
    "for i,cloud in enumerate(clouds):\n",
    "    W = data[\"W\"][cloud].loc[subsets[\"good\"][cloud]].join(tables[cloud]['total'].P)\n",
    "    mask = (np.log10(abs(W.P-1/W.freq)) < -0.8) & (np.log10(abs(W.P-1/W.freq)) > -3.8 ) & (-np.log10(W.freq) < 0.32) & (-np.log10(W.freq) > 0.28)\n",
    "    mistery_line[cloud] = W[mask]\n",
    "    print(sum(mask))"
   ]
  },
  {
   "cell_type": "code",
   "execution_count": null,
   "id": "b18a1c55-0216-4a88-9fb0-7e218e5d8ee1",
   "metadata": {},
   "outputs": [],
   "source": [
    "fig,ax = plt.subplots(ncols=2,nrows=2,figsize=(12,8),sharey='row',sharex=True)\n",
    "\n",
    "for i,cloud in enumerate([\"lmc\",\"smc\"]):\n",
    "    plt.sca(ax[0,i])\n",
    "    W = data[\"W\"][cloud].loc[subsets[\"good\"][cloud]].join(tables[cloud]['total'].P)\n",
    "    plt.scatter(-np.log10(W.freq),abs(W.P - 1/W.freq),s=1,c='k',label=\"selected data\",alpha=0.4)\n",
    "    plt.scatter(-np.log10(mistery_line[cloud].freq),abs(mistery_line[cloud].P - 1/mistery_line[cloud].freq),s=5,c='r',label=\"vertical line\")\n",
    "    \n",
    "    if i == 0:\n",
    "        plt.yscale(\"log\")\n",
    "        plt.legend(loc=\"best\")\n",
    "        plt.ylabel(\"Discrepancy with \\nOGLE-IV period\")\n",
    "        plt.ylim(1e-5,3)\n",
    "    #plt.xlabel(\"log P (this work)\")\n",
    "    plt.title(f\"OGLE-{cloud.upper()}-CEP\")\n",
    "    \n",
    "    plt.sca(ax[1,i])\n",
    "    \n",
    "    plt.scatter(-np.log10(W.freq),W.W,s=1,c=\"k\",alpha=0.4)\n",
    "    plt.scatter(-np.log10(mistery_line[cloud].freq),mistery_line[cloud].W,c='r',s=10)\n",
    "    \n",
    "    if i == 0:\n",
    "        plt.ylabel(\"$W_I$\")\n",
    "        plt.ylim(*np.flip(plt.gca().get_ylim()))\n",
    "        plt.xlim(-0,0.6)\n",
    "        plt.ylim(16.5,13.7)\n",
    "    plt.xlabel(\"log P (this work)\")\n",
    "    \n",
    "plt.tight_layout()\n",
    "#plt.savefig(\"results/vertial_line_detail.pdf\")"
   ]
  },
  {
   "cell_type": "code",
   "execution_count": null,
   "id": "fb94f4da-43e8-414f-a419-eb847c2b1316",
   "metadata": {},
   "outputs": [],
   "source": [
    "def normalize(arr):\n",
    "    return (arr-arr.min())/arr.ptp()"
   ]
  },
  {
   "cell_type": "code",
   "execution_count": null,
   "id": "e8117a5b-b424-49b9-9a29-8977a766dcc9",
   "metadata": {},
   "outputs": [],
   "source": [
    "plt.figure(figsize=(5,3*len(mistery_line['lmc'])))\n",
    "for i,name in enumerate(mistery_line['lmc'].index):\n",
    "    star = mistery_line['lmc'].loc[name]\n",
    "    t,m,err = np.loadtxt(\"ogle4/OCVS/lmc/cep/phot/I/\"+name+\".dat\",unpack=True).copy()\n",
    "    m = normalize(m)\n",
    "    t0 = t[m.argmax()]\n",
    "    phase = np.mod((t-t0)*star.freq,1)\n",
    "    plt.scatter(phase,m+i,s=1)\n",
    "plt.gca().invert_yaxis()"
   ]
  },
  {
   "cell_type": "markdown",
   "id": "bb662f34-ccc1-40db-ae69-b3389c4e0c92",
   "metadata": {},
   "source": [
    "## Mode horizontal line"
   ]
  },
  {
   "cell_type": "code",
   "execution_count": null,
   "id": "19d33d8a-f356-45db-9d16-9a76037b3aa4",
   "metadata": {},
   "outputs": [],
   "source": [
    "fig,ax = plt.subplots(ncols=2,sharey=True,figsize=(12,4))\n",
    "for i,cloud in enumerate(clouds):\n",
    "    plt.sca(ax[i])\n",
    "    W = data[\"W\"][cloud].loc[subsets[\"good\"][cloud]].join(tables[cloud]['total'].P)\n",
    "    mask = np.log10(abs(W.P-1/W.freq)) > -1.5\n",
    "    \n",
    "    plt.scatter(-np.log10(W.freq),W.W,s=1,c=\"k\",alpha=0.1)\n",
    "    plt.scatter(-np.log10(true_outliers[cloud].freq),true_outliers[cloud].W,c=\"#FF80FF\",label=\"true outliers\")\n",
    "    plt.scatter(-np.log10(W[mask].freq),W[mask].W,s=5,c=\"#d43d51\",label=\"this work\")\n",
    "    plt.scatter(np.log10(W[mask].P),W[mask].W,s=5,c=\"#00876c\",label=\"OGLE-IV\")\n",
    "    for _,row in W[mask].iterrows():\n",
    "        plt.plot([np.log10(row.P),-np.log10(row.freq)],[row.W]*2,\"--\",c=\"#00876c\",alpha=0.3,zorder=-1)\n",
    "    \n",
    "    if i == 0:\n",
    "        plt.legend()\n",
    "        plt.ylabel(\"$W_I$\")\n",
    "        plt.ylim(*np.flip(plt.gca().get_ylim()))\n",
    "        plt.xlim(-0.5,1.2)\n",
    "        plt.ylim(18.7,11.7)\n",
    "    plt.xlabel(\"log P\")\n",
    "    plt.title(f\"OGLE-{cloud.upper()}-CEP\")\n",
    "    \n",
    "plt.tight_layout()\n",
    "#plt.savefig(\"results/horizontal_line_corrections.pdf\")"
   ]
  },
  {
   "cell_type": "markdown",
   "id": "2437e604-43ab-4b4c-ab8c-7cb37407a9eb",
   "metadata": {},
   "source": [
    "### Where does the lines and true outliers lie in the modes?"
   ]
  },
  {
   "cell_type": "markdown",
   "id": "dce759b4-ca8c-4342-aaff-f096d242107f",
   "metadata": {
    "tags": []
   },
   "source": [
    "#### vertical line"
   ]
  },
  {
   "cell_type": "code",
   "execution_count": null,
   "id": "8d136ad0-ade5-4fda-a337-0faac1bd634b",
   "metadata": {},
   "outputs": [],
   "source": [
    "for cloud in clouds:\n",
    "    print(cloud)\n",
    "    for mode in tables[cloud].keys():\n",
    "        if mode != \"total\":\n",
    "            intersection = np.intersect1d(mistery_line[cloud].index,tables[cloud][mode].index)\n",
    "            print(\"\\t\",mode,len(intersection))\n",
    "    print(\"   \",len(mistery_line[cloud]))"
   ]
  },
  {
   "cell_type": "markdown",
   "id": "b78fce8c-6306-437c-a8ea-7d51c7c80d51",
   "metadata": {
    "tags": []
   },
   "source": [
    "#### horizontal line"
   ]
  },
  {
   "cell_type": "code",
   "execution_count": null,
   "id": "6e509040-e8c4-4a70-b25d-7e79739c0c2b",
   "metadata": {},
   "outputs": [],
   "source": [
    "horizontal_stars = {c:{} for c in clouds}\n",
    "for cloud in clouds:\n",
    "    W = data[\"W\"][cloud].loc[subsets[\"good\"][cloud]].join(tables[cloud]['total'].P)\n",
    "    mask = np.log10(abs(W.P-1/W.freq)) > -1.5\n",
    "    \n",
    "    horizontal_stars[cloud] = np.setdiff1d(W[mask].index ,true_outliers[cloud].index)\n",
    "    \n",
    "    print(cloud)\n",
    "    for mode in tables[cloud].keys():\n",
    "        if mode != \"total\":\n",
    "            intersection = np.intersect1d(horizontal_stars[cloud],tables[cloud][mode].index)\n",
    "            print(\"\\t\",mode,len(intersection))\n",
    "            if len(intersection) < 10 and len(intersection) != 0:\n",
    "                print(\"\\t\\t\",[s.split(\"-\")[-1] for s in intersection])\n",
    "    print(\"    \",len(horizontal_stars[cloud]))"
   ]
  },
  {
   "cell_type": "markdown",
   "id": "4ce06504-0a5e-429b-b26a-88573aa1816a",
   "metadata": {
    "tags": []
   },
   "source": [
    "#### outliers"
   ]
  },
  {
   "cell_type": "code",
   "execution_count": null,
   "id": "7622b08c-1e72-45e3-9f71-afb0e80441f6",
   "metadata": {},
   "outputs": [],
   "source": [
    "for cloud in clouds:\n",
    "    print(cloud)\n",
    "    for mode in tables[cloud].keys():\n",
    "        if mode != \"total\":\n",
    "            tru = np.intersect1d(true_outliers[cloud].index,tables[cloud][mode].index)\n",
    "            print(\"\\t\",mode,[s.split(\"-\")[-1] for s in tru])\n",
    "    print(\"    \",len(true_outliers[cloud]))"
   ]
  },
  {
   "cell_type": "markdown",
   "id": "657fb168-36fb-4f75-a57b-ea90450656a4",
   "metadata": {},
   "source": [
    "# Lines"
   ]
  },
  {
   "cell_type": "code",
   "execution_count": null,
   "id": "334b0e35-f71b-4f2d-886b-4485dcf914d2",
   "metadata": {},
   "outputs": [],
   "source": [
    "from scipy.stats import linregress\n",
    "from uncertainties import ufloat"
   ]
  },
  {
   "cell_type": "code",
   "execution_count": null,
   "id": "2619644e-c828-440a-bd54-507e64bfd915",
   "metadata": {},
   "outputs": [],
   "source": [
    "OGLE_modes = {c:{} for c in clouds}\n",
    "for cloud in clouds:\n",
    "    for mode in tables[cloud].keys():\n",
    "        if mode != \"total\":\n",
    "            OGLE_modes[cloud] |= {i:{\"mode\":mode} for i in tables[cloud][mode].index}\n",
    "    OGLE_modes[cloud] = pd.DataFrame.from_dict(OGLE_modes[cloud],orient=\"index\")"
   ]
  },
  {
   "cell_type": "code",
   "execution_count": null,
   "id": "e974437f-2c51-4fa8-9d5b-e1b9844c8c0b",
   "metadata": {},
   "outputs": [],
   "source": [
    "fig,ax = plt.subplots(ncols=2,nrows=2,figsize=(12,8),sharey='row',sharex=True)\n",
    "\n",
    "color = {\"F\":\"#7a5195\",\"1O\":\"#ffa600\"}\n",
    "\n",
    "#residuals = {\"I\":{c:{} for c in clouds},\"W\":{c:{} for c in clouds}}\n",
    "\n",
    "for i,cloud in enumerate(clouds):\n",
    "    for j,mag in enumerate(\"IW\"):\n",
    "        good_stars = data[mag][cloud].loc[subsets[\"good\"][cloud]]\n",
    "        bad_stars = data[mag][cloud].loc[subsets[\"bad\"][cloud]]\n",
    "        stars = good_stars.join(OGLE_modes[cloud])\n",
    "        #outliers = np.concatenate([horizontal_stars[cloud],true_outliers[cloud].index,mistery_line[cloud].index])\n",
    "        #stars = stars.drop(outliers)\n",
    "        \n",
    "        mask = {\n",
    "            \"1O\": stars[\"mode\"].apply(lambda s: \"1O\" in str(s)),\n",
    "            \"F\": stars[\"mode\"] == \"F\"\n",
    "        }\n",
    "        \n",
    "        lin = {mode:linregress(-np.log10(stars[mask[mode]].freq),stars[mask[mode]][mag]) for mode in mask}\n",
    "        \n",
    "        plt.sca(ax[j,i])\n",
    "        \n",
    "        plt.scatter(-np.log10(good_stars.freq),good_stars[mag],s=1,c='#488f31',label=\"other\")\n",
    "        plt.scatter(-np.log10(bad_stars.freq),bad_stars[mag],s=10,alpha=0.5,c='r',label=\"discarded\")\n",
    "        for mode in mask:\n",
    "            print(cloud,mag,mode,ufloat(lin[mode].slope,lin[mode].stderr),ufloat(lin[mode].intercept,lin[mode].intercept_stderr))\n",
    "            #residuals\n",
    "            \n",
    "            plt.scatter(-np.log10(stars[mask[mode]].freq),stars[mask[mode]][mag],s=2,label=mode,c=color[mode])\n",
    "            xs = np.linspace(min(-np.log10(stars[mask[mode]].freq)),max(-np.log10(stars[mask[mode]].freq)))\n",
    "            plt.plot(xs,lin[mode].slope*xs+lin[mode].intercept,\"k\")\n",
    "        if i == 0:\n",
    "            plt.ylim(*np.flip(plt.gca().get_ylim()))\n",
    "            plt.ylabel({\"I\":\"$I_{mean}$\",\"W\":\"$W_I$\"}[mag])\n",
    "            if j == 0:\n",
    "                legend = plt.legend()\n",
    "        if j == 0:\n",
    "            plt.title(f\"OGLE-{cloud.upper()}-CEP\")\n",
    "        else:\n",
    "            plt.xlabel(\"$\\\\log P$\")\n",
    "        print()\n",
    "\n",
    "legend.legendHandles[0]._sizes = [10]\n",
    "legend.legendHandles[1]._sizes = [30]\n",
    "legend.legendHandles[2]._sizes = [10]\n",
    "legend.legendHandles[3]._sizes = [10]\n",
    "plt.tight_layout()\n",
    "plt.savefig(\"PL_result.pdf\")"
   ]
  },
  {
   "cell_type": "code",
   "execution_count": null,
   "id": "99a7f222-3db4-474e-8533-dd7f547099a1",
   "metadata": {},
   "outputs": [],
   "source": []
  },
  {
   "cell_type": "code",
   "execution_count": null,
   "id": "a0b631ce-26fb-4fa6-a4d4-c8ebf8cac9bb",
   "metadata": {},
   "outputs": [],
   "source": []
  },
  {
   "cell_type": "code",
   "execution_count": null,
   "id": "2003fab7-8568-4029-ba9d-65458182021a",
   "metadata": {},
   "outputs": [],
   "source": []
  },
  {
   "cell_type": "code",
   "execution_count": null,
   "id": "d86c27e4-e49f-448b-9729-f8d6b31925f5",
   "metadata": {},
   "outputs": [],
   "source": []
  }
 ],
 "metadata": {
  "kernelspec": {
   "display_name": "Python 3 (ipykernel)",
   "language": "python",
   "name": "python3"
  },
  "language_info": {
   "codemirror_mode": {
    "name": "ipython",
    "version": 3
   },
   "file_extension": ".py",
   "mimetype": "text/x-python",
   "name": "python",
   "nbconvert_exporter": "python",
   "pygments_lexer": "ipython3",
   "version": "3.9.7"
  }
 },
 "nbformat": 4,
 "nbformat_minor": 5
}
