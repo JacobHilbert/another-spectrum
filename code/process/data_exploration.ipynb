{
 "cells": [
  {
   "cell_type": "code",
   "execution_count": null,
   "id": "7c0cfb81-3e31-4525-8d07-ea1d41ddf853",
   "metadata": {},
   "outputs": [],
   "source": [
    "import pandas as pd\n",
    "import matplotlib.pyplot as plt\n",
    "import numpy as np\n",
    "\n",
    "plt.rcParams[\"figure.dpi\"] = 120\n",
    "plt.rcParams[\"axes.labelsize\"] = 17\n",
    "plt.rcParams[\"xtick.labelsize\"] = 12\n",
    "plt.rcParams[\"ytick.labelsize\"] = 12"
   ]
  },
  {
   "cell_type": "code",
   "execution_count": null,
   "id": "f18dce58-3dcd-4f85-9542-3c4d6d722600",
   "metadata": {},
   "outputs": [],
   "source": [
    "pd_options = dict(\n",
    "    sep=\"\\s+\",\n",
    "    usecols=[*range(7)],\n",
    "    index_col=0,\n",
    "    names=[\"ID\",\"I\",\"V\",\"P\",\"dP\",\"t0\",\"ptp\"],\n",
    "    na_values=\"-\"\n",
    ")\n",
    "base = {}\n",
    "files = {}\n",
    "labels = {}\n",
    "tables = {}\n",
    "stats = {}\n",
    "\n",
    "base[\"lmc\"] = \"ogle4/OCVS/lmc/cep/\"\n",
    "files[\"lmc\"] = [\"cepF.dat\",\"cep1O.dat\",\"cep2O.dat\",\n",
    "         \"cepF1O.dat\",\"cep1O2O.dat\",\"cepF1O2O.dat\",\n",
    "         \"cep1O2O3O.dat\",\"cep1O3O.dat\",\"cep2O3O.dat\"]\n",
    "\n",
    "base[\"smc\"] = \"ogle4/OCVS/smc/cep/\"\n",
    "files[\"smc\"] = [\"cepF.dat\",\"cep1O.dat\",\"cep2O.dat\",\n",
    "         \"cepF1O.dat\",\"cep1O2O.dat\",\"cep1O2O3O.dat\"]"
   ]
  },
  {
   "cell_type": "code",
   "execution_count": null,
   "id": "5a2a513e-48b5-4fa9-a866-ff32f615f62b",
   "metadata": {},
   "outputs": [],
   "source": [
    "for cloud,basepath in base.items():\n",
    "    labels[cloud] = [f[3:].split(\".\")[0] for f in files[cloud]]\n",
    "    tables[cloud] = {\n",
    "        label:pd.read_table(basepath+fname,**pd_options) for fname,label in zip(files[cloud],labels[cloud])\n",
    "    }\n",
    "    for label,table in tables[cloud].items():\n",
    "        for phot in \"IV\":\n",
    "            table.insert(len(table.columns),\"n\"+phot,np.nan)\n",
    "            for index in table.index:\n",
    "                try:\n",
    "                    with open(f\"{basepath}phot/{phot}/{index}.dat\",\"r\") as file:\n",
    "                        table.at[index,\"n\"+phot] = file.read().count(\"\\n\")\n",
    "                except FileNotFoundError:\n",
    "                    pass\n",
    "    all_data = pd.concat(tables[cloud]).sort_index()\n",
    "    tables[cloud][\"total\"] = all_data\n",
    "    \n",
    "    local_stats = {}\n",
    "    for label,table in tables[cloud].items():\n",
    "        local_stats[label] = {\n",
    "            \"n\":len(table),\n",
    "            \"I\":sum(~table[\"nI\"].isna()),\n",
    "            \"I (only)\":sum(~table[\"nI\"].isna() & table[\"nV\"].isna()),\n",
    "            \"V\":sum(~table[\"nV\"].isna()),\n",
    "            \"V (only)\":sum(table[\"nI\"].isna() & ~table[\"nV\"].isna()),\n",
    "            \"both\": sum(~table[\"nI\"].isna() & ~table[\"nV\"].isna()),\n",
    "            \"none\": sum(table[\"nI\"].isna() & table[\"nV\"].isna())\n",
    "        }\n",
    "    stats[cloud] = pd.DataFrame.from_dict(local_stats,orient=\"index\")"
   ]
  },
  {
   "cell_type": "code",
   "execution_count": null,
   "id": "3233166c-3081-42fd-bc71-6b06f5ab1979",
   "metadata": {},
   "outputs": [],
   "source": [
    "pers = tables['lmc']['total'].P\n",
    "min(1/pers),max(1/pers)"
   ]
  },
  {
   "cell_type": "code",
   "execution_count": null,
   "id": "df03b4ca-7797-4256-9d9a-63d42cb4b0af",
   "metadata": {},
   "outputs": [],
   "source": [
    "len(np.arange(0.001,4.7,1e-4))"
   ]
  },
  {
   "cell_type": "code",
   "execution_count": null,
   "id": "1187b30c-5764-4664-8506-426ddd4a6d89",
   "metadata": {},
   "outputs": [],
   "source": [
    "sum(~tables['lmc']['F'].nI.isna() & tables['lmc']['F'].nV.isna())"
   ]
  },
  {
   "cell_type": "code",
   "execution_count": null,
   "id": "ba01db6f-89c5-4370-96cc-f2e46103659b",
   "metadata": {},
   "outputs": [],
   "source": [
    "sum(tables['lmc']['F'].nI.isna() & ~tables['lmc']['F'].nV.isna())"
   ]
  },
  {
   "cell_type": "code",
   "execution_count": null,
   "id": "e0d77e3c-4dae-460e-a4ec-642dbdc9ac7c",
   "metadata": {},
   "outputs": [],
   "source": [
    "print(stats[\"lmc\"].to_latex())\n",
    "print(stats[\"smc\"].to_latex())"
   ]
  },
  {
   "cell_type": "code",
   "execution_count": null,
   "id": "ff543e5e-2913-4193-8696-ba417d1b6a03",
   "metadata": {},
   "outputs": [],
   "source": [
    "files[\"selected\"] = [*reversed([\"cepF.dat\",\"cep1O.dat\",\"cep2O.dat\",\"cepF1O.dat\",\"cep1O2O.dat\"])]\n",
    "labels[\"selected\"] = [f[3:].split(\".\")[0] for f in files[\"selected\"]]\n",
    "# courtesy of https://learnui.design/tools/data-color-picker.html#palette\n",
    "#colors = [*reversed([\"#003f5c\",\"#58508d\",\"#bc5090\",\"#ff6361\",\"#ffa600\"])] \n",
    "#colors = [*reversed([\"#00876c\",\"#88c580\",\"#ffff9d\",\"#f7a258\",\"#d43d51\"])]\n",
    "colors = [\"#00876c\",\"#89bd73\",\"#ffeb8a\",\"#f59855\",\"#d43d51\"][::-1]"
   ]
  },
  {
   "cell_type": "code",
   "execution_count": null,
   "id": "17803f73-44b1-47d1-a4f0-2e6a76ffbaa7",
   "metadata": {},
   "outputs": [],
   "source": [
    "hist_options = dict(stacked=True,bins=70,color=colors,label=labels[\"selected\"])\n",
    "total_hist_options = dict(bins=70,histtype=\"step\",color='k',label=\"total\")\n",
    "\n",
    "fig,axes = plt.subplots(nrows=2,ncols=3,figsize=(14,7),sharey=\"row\",sharex=\"col\")\n",
    "\n",
    "for i,cloud in enumerate([\"lmc\",\"smc\"]):\n",
    "    ax = axes[i]\n",
    "    #\n",
    "    plt.sca(ax[0])\n",
    "    plt.hist([np.log10(tables[cloud][s].P) for s in labels[\"selected\"]], **hist_options)\n",
    "    plt.hist(np.log10(tables[cloud][\"total\"].P), **total_hist_options)\n",
    "    if i:\n",
    "        plt.xlabel(r\"$\\log_{10}(P)$\")\n",
    "    plt.ylabel(fr\"{cloud.upper()} star amount\")\n",
    "    #\n",
    "    plt.sca(ax[1])\n",
    "    plt.hist([tables[cloud][s].I for s in labels[\"selected\"]], **hist_options)\n",
    "    plt.hist(tables[cloud][\"total\"].I, **total_hist_options)\n",
    "    if i:\n",
    "        plt.xlabel(r\"$I_{mean}$\")\n",
    "        plt.xlim(np.flip(plt.gca().get_xlim()))\n",
    "    #    \n",
    "    plt.sca(ax[2])\n",
    "    plt.hist([tables[cloud][s].ptp for s in labels[\"selected\"]], **hist_options)\n",
    "    plt.hist(tables[cloud][\"total\"].ptp, **total_hist_options)\n",
    "    if i:\n",
    "        plt.xlabel(r\"$\\Delta I$\")\n",
    "\n",
    "sublabels = \"abcdef\"\n",
    "for i,ax in enumerate(axes.ravel()):\n",
    "    plt.sca(ax)\n",
    "    plt.text(0.95, 0.1, sublabels[i]+\")\", fontsize=15,\n",
    "             horizontalalignment='center', verticalalignment='center', \n",
    "             transform=ax.transAxes)\n",
    "    \n",
    "plt.sca(axes[0,0])\n",
    "plt.legend(title=\"pulsation mode\")\n",
    "plt.tight_layout()"
   ]
  },
  {
   "cell_type": "code",
   "execution_count": null,
   "id": "ed0887c2-4d95-4e68-b16c-ababd0a38151",
   "metadata": {},
   "outputs": [],
   "source": [
    "hist_options = dict(stacked=True,bins=30,color=colors,label=labels[\"selected\"])\n",
    "total_hist_options = dict(bins=30,histtype=\"step\",color='k',label=\"total\")\n",
    "\n",
    "fig,axes = plt.subplots(nrows=2,ncols=2,figsize=(10,7),sharey=\"row\",sharex=\"col\")\n",
    "\n",
    "for i,cloud in enumerate([\"lmc\",\"smc\"]):\n",
    "    ax = axes[i]\n",
    "    \n",
    "    plt.sca(ax[0])\n",
    "    plt.hist([tables[cloud][s].nI for s in labels[\"selected\"]], **hist_options)\n",
    "    plt.hist(tables[cloud][\"total\"].nI, **total_hist_options)\n",
    "    if i:\n",
    "        plt.xlabel(r\"$I$ points per star\")\n",
    "    plt.ylabel(fr\"{cloud.upper()} star amount\")\n",
    "    \n",
    "    plt.sca(ax[1])\n",
    "    plt.hist([tables[cloud][s].nV for s in labels[\"selected\"]], **hist_options)\n",
    "    plt.hist(tables[cloud][\"total\"].nV, **total_hist_options)\n",
    "    if i:\n",
    "        plt.xlabel(r\"$V$ points per star\")\n",
    "\n",
    "sublabels = \"abcd\"\n",
    "for i,ax in enumerate(axes.ravel()):\n",
    "    plt.sca(ax)\n",
    "    plt.text(0.05, 0.9, sublabels[i]+\")\", fontsize=15,\n",
    "             horizontalalignment='center', verticalalignment='center', \n",
    "             transform=ax.transAxes)\n",
    "\n",
    "plt.sca(axes[1,1])\n",
    "plt.legend(title=\"pulsation mode\")\n",
    "plt.tight_layout()"
   ]
  },
  {
   "cell_type": "code",
   "execution_count": null,
   "id": "dd0f0270-8221-4bc9-86a5-ce7cc2cc8dd1",
   "metadata": {},
   "outputs": [],
   "source": []
  },
  {
   "cell_type": "code",
   "execution_count": null,
   "id": "c9c1f6f4-fed2-44d0-8697-b57e728f1a40",
   "metadata": {},
   "outputs": [],
   "source": [
    "t,mag,err = np.loadtxt(\"ogle4/OCVS/lmc/cep/phot/I/OGLE-LMC-CEP-1234.dat\",unpack=True)\n",
    "dist = np.mod(np.diff(t)+0.5,1)-0.5\n",
    "plt.hist(24*dist,np.arange(-5,12,0.5),color='k');\n",
    "plt.xlabel(\"Hour difference between consecutive measurements\",fontsize=15)\n",
    "plt.ylabel(\"Measurements\",fontsize=15)\n",
    "plt.title(\"OGLE-LMC-CEP-1234\")"
   ]
  },
  {
   "cell_type": "code",
   "execution_count": null,
   "id": "b71996c7-13b7-4d80-b26d-de8c70334c2e",
   "metadata": {},
   "outputs": [],
   "source": []
  }
 ],
 "metadata": {
  "kernelspec": {
   "display_name": "Python 3 (ipykernel)",
   "language": "python",
   "name": "python3"
  },
  "language_info": {
   "codemirror_mode": {
    "name": "ipython",
    "version": 3
   },
   "file_extension": ".py",
   "mimetype": "text/x-python",
   "name": "python",
   "nbconvert_exporter": "python",
   "pygments_lexer": "ipython3",
   "version": "3.9.7"
  }
 },
 "nbformat": 4,
 "nbformat_minor": 5
}
